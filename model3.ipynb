{
 "cells": [
  {
   "cell_type": "code",
   "execution_count": 1,
   "id": "9820b8d7",
   "metadata": {},
   "outputs": [],
   "source": [
    "import pandas as pd\n",
    "import numpy as np\n",
    "import matplotlib.pyplot as plt\n",
    "import math\n",
    "import random\n",
    "from sklearn.linear_model import LinearRegression\n",
    "from sklearn.preprocessing import PolynomialFeatures\n",
    "from sklearn.model_selection import train_test_split\n",
    "from sklearn.metrics import classification_report, confusion_matrix\n",
    "from sklearn.metrics import accuracy_score\n",
    "from sklearn.metrics import log_loss\n",
    "from sklearn.metrics import r2_score"
   ]
  },
  {
   "cell_type": "code",
   "execution_count": 2,
   "id": "08a3fa1a",
   "metadata": {},
   "outputs": [],
   "source": [
    "def red(x,y):\n",
    "    m=sum(x)/len(x)\n",
    "    st=np.std(x)\n",
    "    for i in range(len(x)):\n",
    "        x[i]=(x[i]-m)/st\n",
    "    m=sum(y)/len(x)\n",
    "    st=np.std(y)\n",
    "    for i in range(len(y)):\n",
    "        y[i]=(y[i]-m)/st\n",
    "def sh(x,y,q):\n",
    "    jack=[]\n",
    "    for i in range(len(x)):\n",
    "        jack.append([[x[i]],y[i]])\n",
    "    random.seed(q)\n",
    "    random.shuffle(jack)\n",
    "    x=[]\n",
    "    y=[]\n",
    "    for i in range(len(jack)):\n",
    "        x.append(jack[i][0])\n",
    "        y.append(jack[i][1])\n",
    "    return x,y\n",
    "def fun(x,y,g):\n",
    "    traningSet=x[:]\n",
    "    traningSety=y[:]\n",
    "    X=LinearRegression()\n",
    "    superModel=PolynomialFeatures(g)\n",
    "    polx=superModel.fit_transform(traningSet)\n",
    "    X.fit(polx,traningSety)\n",
    "    pp=X.predict(polx)\n",
    "#     print(r2_score(traningSety,pp))\n",
    "    return(X.coef_+X.intercept_)\n",
    "def qh(x,y,q):\n",
    "    jack=[]\n",
    "    for i in range(len(x)):\n",
    "        jack.append([x[i],y[i]])\n",
    "    random.seed(q)\n",
    "    random.shuffle(jack)\n",
    "    x=[]\n",
    "    y=[]\n",
    "    for i in range(len(jack)):\n",
    "        x.append(jack[i][0])\n",
    "        y.append(jack[i][1])\n",
    "    return x,y\n",
    "def sd(ordinates):\n",
    "    times=[]\n",
    "    nades=[]\n",
    "    for i in range(len(ordinates)):\n",
    "        times.append(ordinates[i][-1])\n",
    "        nades.append(ordinates[i][:-1])\n",
    "    return nades, times\n",
    "def idea2(ordinates):\n",
    "    nums = [0]*(len(ordinates[0]) - 1)\n",
    "    for i in range(len(ordinates)):\n",
    "        for j in range(len(nums)):\n",
    "            nums[j] += ordinates[i][j]\n",
    "    for j in range(len(nums)):\n",
    "        nums[j] = nums[j]/len(ordinates)\n",
    "    return nums"
   ]
  },
  {
   "cell_type": "code",
   "execution_count": 3,
   "id": "350e0cf8",
   "metadata": {},
   "outputs": [],
   "source": [
    "ms = []\n",
    "for i in range(809,1121):\n",
    "    s=\"s\"\n",
    "    for j in range(4-len(str(i))):\n",
    "        s=s+\"0\"\n",
    "    file=s+str(i)+\".csv\"\n",
    "    ordinates=[]\n",
    "    dataForTest1=pd.read_csv(file)\n",
    "    s=set()\n",
    "    for x in dataForTest1['time']:\n",
    "        s.add(x)\n",
    "    s=list(s)\n",
    "    d={}\n",
    "    num=0\n",
    "    for it in s[:]:\n",
    "        data=dataForTest1[dataForTest1['time']==it]\n",
    "        x=[]\n",
    "        y=[]\n",
    "        for i in data['intensity']:\n",
    "            y.append(math.log(i+0.001))\n",
    "        for i in data['mass']:\n",
    "            x.append(i)\n",
    "        red(x,y)\n",
    "        alpha,beta=sh(x,y,2559)\n",
    "        ordinates.append(list(fun(alpha,beta,6)))\n",
    "        ordinates[num].append(it)\n",
    "        num+=1\n",
    "    ms.append(idea2(ordinates))"
   ]
  },
  {
   "cell_type": "code",
   "execution_count": 5,
   "id": "e350cca3",
   "metadata": {},
   "outputs": [],
   "source": [
    "import csv\n",
    "fields = ['p1', 'p2', 'p3', 'p4', 'p5', 'p6', ' p7']\n",
    "with open('mstest.csv', 'w', newline='') as file:\n",
    "    writer = csv.writer(file)\n",
    "    writer.writerow(fields)\n",
    "    writer.writerows(ms)"
   ]
  },
  {
   "cell_type": "code",
   "execution_count": 6,
   "id": "e4136d51",
   "metadata": {},
   "outputs": [],
   "source": [
    "mstest = []\n",
    "for i in range(809):\n",
    "    s=\"s\"\n",
    "    for j in range(4-len(str(i))):\n",
    "        s=s+\"0\"\n",
    "    file=s+str(i)+\".csv\"\n",
    "    ordinates=[]\n",
    "    dataForTest1=pd.read_csv(file)\n",
    "    s=set()\n",
    "    for x in dataForTest1['time']:\n",
    "        s.add(x)\n",
    "    s=list(s)\n",
    "    d={}\n",
    "    num=0\n",
    "    for it in s[:]:\n",
    "        data=dataForTest1[dataForTest1['time']==it]\n",
    "        x=[]\n",
    "        y=[]\n",
    "        for i in data['intensity']:\n",
    "            y.append(math.log(i+0.001))\n",
    "        for i in data['mass']:\n",
    "            x.append(i)\n",
    "        red(x,y)\n",
    "        alpha,beta=sh(x,y,2559)\n",
    "        ordinates.append(list(fun(alpha,beta,6)))\n",
    "        ordinates[num].append(it)\n",
    "        num+=1\n",
    "    mstest.append(idea2(ordinates))"
   ]
  },
  {
   "cell_type": "code",
   "execution_count": 22,
   "id": "e251c36f",
   "metadata": {},
   "outputs": [],
   "source": [
    "fields = ['p1', 'p2', 'p3', 'p4', 'p5', 'p6', ' p7']\n",
    "with open('ms.csv', 'w', newline='') as file:\n",
    "    writer = csv.writer(file)\n",
    "    writer.writerow(fields)\n",
    "    writer.writerows(mstest)"
   ]
  },
  {
   "cell_type": "code",
   "execution_count": 23,
   "id": "ee344f2a",
   "metadata": {},
   "outputs": [],
   "source": [
    "fields = ['p1', 'p2', 'p3', 'p4', 'p5', 'p6', ' p7']\n",
    "with open('mstest.csv', 'w', newline='') as file:\n",
    "    writer = csv.writer(file)\n",
    "    writer.writerow(fields)\n",
    "    writer.writerows(ms)"
   ]
  },
  {
   "cell_type": "code",
   "execution_count": 24,
   "id": "a6d25b13",
   "metadata": {},
   "outputs": [],
   "source": [
    "ms, mstest = mstest, ms "
   ]
  },
  {
   "cell_type": "code",
   "execution_count": 25,
   "id": "600d433e",
   "metadata": {},
   "outputs": [
    {
     "name": "stdout",
     "output_type": "stream",
     "text": [
      "312\n",
      "809\n"
     ]
    }
   ],
   "source": [
    "print(len(mstest))\n",
    "print(len(ms))"
   ]
  },
  {
   "cell_type": "code",
   "execution_count": 10,
   "id": "f2b80a21",
   "metadata": {},
   "outputs": [],
   "source": [
    "dataForTest2=pd.read_csv('train_labels.csv')"
   ]
  },
  {
   "cell_type": "code",
   "execution_count": 11,
   "id": "1f8ffea8",
   "metadata": {},
   "outputs": [],
   "source": [
    "from sklearn.utils import resample\n",
    "from sklearn.ensemble import RandomForestClassifier"
   ]
  },
  {
   "cell_type": "code",
   "execution_count": 15,
   "id": "0359a383",
   "metadata": {},
   "outputs": [],
   "source": [
    "from sklearn.metrics import log_loss"
   ]
  },
  {
   "cell_type": "code",
   "execution_count": 51,
   "id": "383863df",
   "metadata": {},
   "outputs": [],
   "source": [
    "dataForTest=pd.read_csv('ms.csv')"
   ]
  },
  {
   "cell_type": "code",
   "execution_count": 52,
   "id": "f5947b72",
   "metadata": {},
   "outputs": [],
   "source": [
    "df = pd.concat([dataForTest, dataForTest2[\"aromatic\"]], axis=1)"
   ]
  },
  {
   "cell_type": "code",
   "execution_count": 53,
   "id": "c60fd5da",
   "metadata": {},
   "outputs": [],
   "source": [
    "no = df[df.aromatic == 0]\n",
    "yes = df[df.aromatic == 1]\n",
    "yes_oversampled = resample(yes, replace=True, n_samples=len(yes)*2, random_state=123)\n",
    "df = pd.concat([no, yes_oversampled])"
   ]
  },
  {
   "cell_type": "code",
   "execution_count": 54,
   "id": "85c1e4c6",
   "metadata": {},
   "outputs": [],
   "source": [
    "X = df.iloc[:,[0, 1, 2, 3, 4, 5, 6]].values\n",
    "Y = df.iloc[:,-1].values"
   ]
  },
  {
   "cell_type": "code",
   "execution_count": 55,
   "id": "cd2e5c6f",
   "metadata": {},
   "outputs": [],
   "source": [
    "x_train, x_test, y_train, y_test= train_test_split(X, Y, test_size= 0.2, random_state=100)  "
   ]
  },
  {
   "cell_type": "code",
   "execution_count": 56,
   "id": "ebb8c0f7",
   "metadata": {},
   "outputs": [],
   "source": [
    "rndclf = RandomForestClassifier(n_estimators = 5000, bootstrap = True,).fit(x_train, y_train)"
   ]
  },
  {
   "cell_type": "code",
   "execution_count": 57,
   "id": "5153eeee",
   "metadata": {},
   "outputs": [],
   "source": [
    "y_pred = rndclf.predict(x_test)"
   ]
  },
  {
   "cell_type": "code",
   "execution_count": 58,
   "id": "00d0215f",
   "metadata": {},
   "outputs": [
    {
     "name": "stdout",
     "output_type": "stream",
     "text": [
      "2.0249243477032106\n",
      "0.48135198135198143\n"
     ]
    }
   ],
   "source": [
    "print(log_loss(y_test, y_pred))\n",
    "print(r2_score(y_test,y_pred))"
   ]
  },
  {
   "cell_type": "code",
   "execution_count": 32,
   "id": "4fa94836",
   "metadata": {},
   "outputs": [],
   "source": [
    "aps = []\n",
    "dataForTest1 = pd.read_csv('ms.csv')\n",
    "dataForTest2=pd.read_csv('train_labels.csv')"
   ]
  },
  {
   "cell_type": "code",
   "execution_count": 38,
   "id": "5f3fa9b4",
   "metadata": {},
   "outputs": [],
   "source": [
    "column = 'aromatic'\n",
    "df = pd.concat([dataForTest1, dataForTest2[column]], axis=1)"
   ]
  },
  {
   "cell_type": "code",
   "execution_count": 39,
   "id": "b76d9155",
   "metadata": {},
   "outputs": [
    {
     "name": "stdout",
     "output_type": "stream",
     "text": [
      "           p1        p2        p3        p4        p5        p6        p7   \n",
      "0   -0.336516 -0.601248 -0.460566 -1.035558  0.330537 -0.124704 -0.530501  \\\n",
      "1   -0.074635 -0.732331  0.120145 -0.315457 -0.097172  0.017167 -0.096154   \n",
      "2   -0.109801 -0.874909  0.045180 -0.274149 -0.051608 -0.046022 -0.146604   \n",
      "3   -0.067945 -0.960888  0.003451 -0.060403  0.054523 -0.033503 -0.125402   \n",
      "4   -0.127452 -0.330942 -0.392034 -0.785178  0.388625  0.076598 -0.271316   \n",
      "..        ...       ...       ...       ...       ...       ...       ...   \n",
      "804 -0.042579 -0.592933 -0.040071 -0.274253  0.050508  0.022008 -0.073527   \n",
      "805 -0.104956 -0.601464 -0.438045 -0.167895  0.328230 -0.123149 -0.193634   \n",
      "806 -0.309729 -0.800945 -0.322714 -0.471619  0.004440 -0.304145 -0.368554   \n",
      "807 -0.074733 -0.716499 -0.173584 -0.157734  0.213798 -0.035327 -0.163859   \n",
      "808  0.018940 -0.811257 -0.364366  0.033674  0.551205  0.040761 -0.134404   \n",
      "\n",
      "     aromatic  \n",
      "0           0  \n",
      "1           0  \n",
      "2           0  \n",
      "3           0  \n",
      "4           0  \n",
      "..        ...  \n",
      "804         0  \n",
      "805         0  \n",
      "806         0  \n",
      "807         0  \n",
      "808         0  \n",
      "\n",
      "[730 rows x 8 columns]\n",
      "           p1        p2        p3        p4        p5        p6        p7   \n",
      "9   -0.089788 -0.800671 -0.104516  0.164923 -0.051852 -0.174506 -0.076965  \\\n",
      "16  -0.238229 -0.449781 -0.335897 -0.812405  0.228991 -0.071409 -0.370783   \n",
      "19  -0.042004 -0.985383  0.072835 -0.032842 -0.062747 -0.013921 -0.050126   \n",
      "27   0.107215 -0.802455 -0.063700 -0.183410  0.353017  0.290249  0.001827   \n",
      "33  -0.005186 -0.749984  0.015892 -0.081168  0.033439  0.027043 -0.026085   \n",
      "..        ...       ...       ...       ...       ...       ...       ...   \n",
      "778  0.117086 -0.768814 -0.112751 -0.206354  0.465416  0.298315 -0.015400   \n",
      "783 -0.246310 -0.483877 -0.327369 -0.803330  0.212170 -0.081967 -0.377123   \n",
      "785  0.104572 -0.834189 -0.056458 -0.167035  0.369433  0.279860 -0.007318   \n",
      "786 -0.014055 -0.805101  0.046804 -0.100053  0.007053  0.025613 -0.033410   \n",
      "790 -0.212683 -0.934912 -0.225287 -0.091911 -0.081316 -0.309176 -0.202627   \n",
      "\n",
      "     aromatic  \n",
      "9           1  \n",
      "16          1  \n",
      "19          1  \n",
      "27          1  \n",
      "33          1  \n",
      "..        ...  \n",
      "778         1  \n",
      "783         1  \n",
      "785         1  \n",
      "786         1  \n",
      "790         1  \n",
      "\n",
      "[79 rows x 8 columns]\n",
      "           p1        p2        p3        p4        p5        p6        p7   \n",
      "704  0.004769 -0.958714  0.031326  0.111382 -0.012836  0.005897  0.005509  \\\n",
      "149 -0.200911 -0.746816 -0.372920 -0.247811  0.072412 -0.275898 -0.211781   \n",
      "611 -0.325163 -0.837307 -0.185972 -0.454524 -0.141996 -0.326410 -0.358628   \n",
      "538  0.000455 -0.885950 -0.244798 -0.008396  0.283439  0.019942 -0.068536   \n",
      "764 -0.268260 -0.534263 -0.235488 -0.792655  0.127388 -0.093547 -0.398132   \n",
      "..        ...       ...       ...       ...       ...       ...       ...   \n",
      "551  0.191849 -0.775127 -0.101760  0.253483  0.316821  0.203468  0.161135   \n",
      "439  0.024394 -0.794304  0.024140 -0.004158 -0.003463  0.042827  0.031600   \n",
      "137  0.075298 -0.436344 -0.326954 -0.647242  0.620267  0.362596 -0.102136   \n",
      "731 -0.316427 -0.652049 -0.058085 -0.860130 -0.067925 -0.119973 -0.427157   \n",
      "35  -0.088629 -1.227775 -0.010433  0.175409 -0.130535 -0.151549 -0.066842   \n",
      "\n",
      "     aromatic  \n",
      "704         1  \n",
      "149         1  \n",
      "611         1  \n",
      "538         1  \n",
      "764         1  \n",
      "..        ...  \n",
      "551         1  \n",
      "439         1  \n",
      "137         1  \n",
      "731         1  \n",
      "35          1  \n",
      "\n",
      "[730 rows x 8 columns]\n"
     ]
    }
   ],
   "source": [
    "no = df[df.iloc[:,-1] == 0]\n",
    "yes = df[df.iloc[:,-1] == 1]\n",
    "print(no)\n",
    "print(yes)\n",
    "yes_oversampled = resample(yes, replace=True, n_samples=len(no), random_state=123)\n",
    "print(yes_oversampled)"
   ]
  },
  {
   "cell_type": "code",
   "execution_count": 43,
   "id": "2dc48e04",
   "metadata": {},
   "outputs": [
    {
     "name": "stdout",
     "output_type": "stream",
     "text": [
      "aromatic\n",
      "hydrocarbon\n",
      "carboxylic_acid\n",
      "nitrogen_bearing_compound\n",
      "chlorine_bearing_compound\n",
      "sulfur_bearing_compound\n",
      "alcohol\n",
      "other_oxygen_bearing_compound\n",
      "mineral\n"
     ]
    }
   ],
   "source": [
    "aps = []\n",
    "dataForTest1 = pd.read_csv('ms.csv')\n",
    "dataForTest2=pd.read_csv('train_labels.csv')\n",
    "for column in dataForTest2:\n",
    "    if column != \"sample_id\":\n",
    "        df = pd.concat([dataForTest1, dataForTest2[column]], axis=1)\n",
    "        # print(column)\n",
    "        no = df[df.iloc[:,-1] == 0]\n",
    "        yes = df[df.iloc[:,-1] == 1]\n",
    "        yes_oversampled = resample(yes, replace=True, n_samples=len(no), random_state=123)\n",
    "        df = pd.concat([no, yes_oversampled])\n",
    "        X = df.iloc[:,[0, 1, 2, 3, 4, 5, 6]].values\n",
    "        Y = df.iloc[:,-1].values\n",
    "        x_train, x_test, y_train, y_test= train_test_split(X, Y, test_size= 0.2, random_state=100)  \n",
    "        rndclf = RandomForestClassifier(n_estimators = 5000, bootstrap = True,).fit(x_train, y_train)\n",
    "        y_pred = rndclf.predict(mstest)\n",
    "        aps.append(y_pred)"
   ]
  },
  {
   "cell_type": "code",
   "execution_count": 46,
   "id": "368fc542",
   "metadata": {
    "collapsed": true
   },
   "outputs": [
    {
     "name": "stdout",
     "output_type": "stream",
     "text": [
      "[array([0, 0, 0, 1, 0, 0, 0, 0, 0, 0, 0, 0, 0, 0, 0, 1, 0, 0, 0, 1, 1, 0,\n",
      "       0, 0, 0, 0, 0, 0, 0, 0, 0, 0, 0, 0, 0, 0, 0, 0, 0, 0, 0, 0, 0, 0,\n",
      "       0, 0, 0, 0, 0, 0, 1, 0, 0, 0, 0, 0, 0, 0, 0, 0, 0, 0, 0, 0, 0, 0,\n",
      "       0, 0, 0, 0, 0, 0, 0, 0, 0, 0, 0, 0, 0, 0, 0, 0, 0, 0, 0, 0, 0, 0,\n",
      "       0, 0, 0, 0, 0, 0, 0, 0, 0, 0, 0, 1, 0, 0, 0, 0, 0, 0, 0, 0, 0, 0,\n",
      "       0, 0, 1, 0, 0, 0, 0, 0, 0, 0, 0, 0, 0, 0, 0, 0, 0, 0, 0, 0, 0, 0,\n",
      "       0, 0, 0, 0, 0, 0, 0, 0, 0, 0, 0, 0, 0, 0, 1, 1, 0, 0, 0, 0, 0, 0,\n",
      "       0, 0, 0, 0, 0, 0, 0, 0, 0, 0, 0, 0, 0, 0, 0, 0, 0, 0, 0, 0, 0, 0,\n",
      "       0, 0, 0, 0, 0, 0, 1, 0, 0, 0, 0, 0, 0, 0, 0, 0, 0, 0, 0, 0, 1, 0,\n",
      "       0, 0, 0, 0, 0, 0, 0, 0, 0, 0, 0, 0, 0, 0, 0, 0, 0, 0, 0, 0, 0, 0,\n",
      "       0, 1, 0, 0, 1, 0, 0, 0, 0, 0, 0, 0, 0, 0, 0, 0, 0, 0, 0, 0, 0, 0,\n",
      "       0, 0, 0, 0, 0, 1, 0, 0, 0, 0, 0, 0, 0, 0, 0, 0, 0, 0, 0, 0, 0, 0,\n",
      "       0, 0, 0, 0, 0, 0, 0, 1, 0, 0, 0, 0, 0, 0, 0, 0, 0, 0, 0, 0, 0, 0,\n",
      "       0, 0, 0, 0, 0, 0, 0, 0, 0, 0, 0, 0, 0, 0, 0, 0, 1, 1, 0, 0, 0, 0,\n",
      "       0, 0, 0, 0], dtype=int64), array([0, 0, 0, 0, 0, 0, 0, 0, 0, 0, 0, 0, 0, 0, 0, 0, 1, 0, 0, 0, 0, 1,\n",
      "       1, 1, 0, 0, 0, 0, 0, 0, 0, 1, 0, 1, 0, 0, 1, 0, 0, 0, 0, 0, 1, 0,\n",
      "       0, 0, 0, 0, 0, 0, 0, 0, 0, 0, 0, 0, 1, 1, 0, 1, 0, 0, 0, 0, 0, 1,\n",
      "       0, 0, 0, 0, 0, 0, 0, 0, 0, 0, 0, 0, 0, 0, 0, 0, 0, 0, 0, 0, 0, 0,\n",
      "       1, 0, 0, 0, 0, 0, 0, 0, 0, 0, 1, 0, 0, 0, 0, 1, 0, 0, 1, 1, 1, 0,\n",
      "       1, 0, 0, 0, 1, 1, 0, 0, 0, 0, 1, 0, 0, 0, 0, 0, 0, 0, 0, 1, 0, 0,\n",
      "       0, 0, 0, 1, 0, 1, 0, 0, 0, 0, 0, 1, 0, 0, 0, 1, 0, 0, 0, 0, 0, 1,\n",
      "       0, 0, 0, 1, 0, 1, 0, 1, 1, 0, 0, 1, 0, 0, 0, 1, 0, 0, 0, 0, 0, 0,\n",
      "       0, 1, 0, 0, 0, 0, 0, 0, 0, 0, 0, 0, 0, 0, 0, 1, 0, 0, 0, 0, 0, 0,\n",
      "       0, 0, 1, 0, 0, 0, 0, 1, 1, 0, 0, 0, 0, 1, 0, 0, 0, 0, 0, 0, 0, 0,\n",
      "       0, 0, 0, 1, 0, 0, 0, 0, 0, 0, 1, 0, 0, 0, 0, 0, 0, 0, 0, 0, 1, 1,\n",
      "       0, 0, 0, 1, 0, 0, 1, 0, 1, 0, 1, 1, 0, 0, 0, 0, 1, 0, 1, 0, 1, 1,\n",
      "       0, 0, 0, 0, 1, 0, 1, 0, 0, 1, 0, 0, 0, 1, 0, 1, 0, 0, 0, 0, 0, 0,\n",
      "       0, 0, 0, 0, 1, 0, 0, 1, 0, 1, 0, 0, 0, 0, 0, 0, 0, 0, 0, 0, 0, 0,\n",
      "       0, 1, 0, 0], dtype=int64), array([0, 0, 0, 0, 0, 0, 0, 0, 0, 0, 1, 0, 0, 0, 0, 0, 0, 1, 0, 1, 1, 0,\n",
      "       0, 0, 0, 1, 0, 0, 1, 0, 0, 0, 1, 0, 0, 0, 0, 0, 0, 0, 1, 0, 0, 0,\n",
      "       1, 0, 0, 0, 0, 0, 0, 0, 1, 1, 0, 1, 0, 0, 1, 0, 1, 0, 0, 0, 0, 0,\n",
      "       0, 0, 1, 0, 1, 1, 0, 0, 0, 0, 0, 0, 0, 0, 0, 0, 0, 0, 0, 0, 0, 0,\n",
      "       0, 0, 0, 0, 0, 0, 0, 1, 0, 0, 0, 0, 0, 0, 1, 0, 0, 1, 0, 0, 0, 1,\n",
      "       0, 1, 0, 0, 0, 0, 0, 0, 0, 1, 0, 1, 0, 0, 1, 0, 0, 1, 0, 0, 0, 0,\n",
      "       0, 0, 0, 0, 0, 0, 0, 1, 0, 0, 0, 0, 0, 0, 0, 0, 0, 0, 0, 0, 1, 0,\n",
      "       0, 0, 0, 0, 0, 0, 0, 0, 0, 1, 0, 0, 0, 0, 0, 0, 0, 0, 0, 0, 0, 0,\n",
      "       0, 0, 0, 0, 0, 0, 0, 1, 0, 0, 0, 0, 0, 1, 0, 0, 1, 0, 0, 1, 0, 0,\n",
      "       0, 1, 0, 1, 1, 0, 1, 0, 0, 0, 0, 0, 0, 0, 1, 1, 0, 0, 0, 0, 0, 0,\n",
      "       0, 1, 0, 0, 1, 0, 0, 0, 0, 1, 0, 0, 0, 0, 0, 0, 1, 0, 0, 0, 0, 0,\n",
      "       0, 0, 0, 0, 0, 0, 0, 0, 0, 0, 0, 0, 0, 0, 0, 0, 0, 1, 0, 0, 0, 0,\n",
      "       0, 0, 0, 0, 0, 0, 0, 1, 0, 0, 0, 0, 0, 0, 1, 0, 0, 0, 0, 0, 0, 0,\n",
      "       0, 0, 0, 0, 0, 1, 0, 0, 0, 0, 0, 0, 1, 1, 0, 0, 1, 0, 1, 1, 0, 0,\n",
      "       1, 0, 0, 0], dtype=int64), array([0, 0, 0, 0, 0, 0, 0, 0, 1, 0, 1, 0, 0, 0, 0, 0, 0, 1, 1, 0, 0, 0,\n",
      "       0, 0, 0, 0, 0, 0, 0, 0, 0, 0, 0, 0, 0, 0, 0, 0, 0, 0, 1, 0, 0, 0,\n",
      "       0, 0, 0, 0, 0, 0, 0, 0, 1, 1, 0, 0, 0, 0, 0, 0, 1, 0, 0, 0, 0, 0,\n",
      "       0, 0, 1, 0, 0, 1, 0, 0, 0, 0, 0, 0, 0, 0, 0, 0, 0, 0, 0, 0, 0, 0,\n",
      "       0, 0, 0, 0, 0, 0, 0, 1, 0, 0, 0, 0, 0, 0, 1, 0, 0, 1, 0, 0, 1, 1,\n",
      "       0, 0, 0, 0, 0, 0, 0, 0, 0, 0, 0, 0, 0, 0, 1, 0, 0, 1, 0, 0, 0, 0,\n",
      "       0, 0, 0, 0, 0, 0, 0, 0, 0, 0, 0, 0, 0, 0, 0, 0, 0, 0, 0, 0, 1, 0,\n",
      "       0, 0, 0, 0, 0, 0, 0, 0, 0, 1, 0, 0, 0, 0, 0, 0, 0, 0, 0, 0, 0, 0,\n",
      "       0, 0, 0, 0, 0, 0, 0, 0, 0, 0, 0, 0, 0, 0, 0, 0, 1, 0, 0, 0, 1, 0,\n",
      "       0, 1, 0, 1, 0, 0, 1, 0, 0, 0, 0, 0, 0, 0, 0, 0, 0, 0, 0, 0, 0, 0,\n",
      "       0, 1, 0, 0, 0, 0, 0, 0, 0, 0, 0, 0, 0, 0, 0, 0, 0, 0, 0, 0, 0, 0,\n",
      "       0, 0, 0, 0, 0, 0, 0, 0, 0, 0, 0, 0, 0, 0, 0, 0, 0, 1, 0, 0, 0, 0,\n",
      "       0, 0, 0, 0, 0, 0, 0, 1, 0, 0, 0, 0, 0, 0, 1, 0, 0, 1, 0, 0, 0, 0,\n",
      "       0, 0, 0, 0, 0, 1, 0, 0, 0, 0, 0, 0, 1, 1, 0, 0, 0, 0, 0, 0, 0, 0,\n",
      "       0, 0, 0, 0], dtype=int64), array([0, 0, 0, 0, 0, 0, 0, 0, 0, 0, 0, 0, 0, 0, 0, 0, 0, 0, 0, 0, 0, 0,\n",
      "       0, 0, 0, 0, 0, 0, 0, 0, 0, 0, 0, 1, 0, 0, 0, 0, 0, 0, 0, 0, 0, 0,\n",
      "       0, 0, 0, 0, 0, 0, 0, 0, 0, 0, 0, 0, 0, 0, 0, 0, 0, 0, 0, 0, 0, 0,\n",
      "       0, 0, 0, 0, 0, 0, 0, 0, 0, 0, 0, 0, 0, 0, 0, 0, 0, 0, 0, 0, 0, 0,\n",
      "       0, 0, 0, 0, 0, 0, 0, 0, 0, 0, 0, 0, 0, 0, 0, 0, 0, 0, 0, 0, 0, 0,\n",
      "       0, 0, 0, 0, 0, 0, 0, 0, 0, 0, 0, 0, 0, 0, 0, 1, 0, 0, 0, 0, 0, 0,\n",
      "       0, 0, 0, 0, 0, 0, 0, 0, 0, 0, 0, 0, 0, 0, 0, 0, 0, 0, 0, 0, 0, 0,\n",
      "       0, 0, 0, 0, 0, 0, 0, 0, 0, 0, 0, 0, 0, 0, 0, 0, 0, 0, 0, 0, 0, 0,\n",
      "       0, 0, 0, 0, 0, 0, 0, 0, 0, 0, 0, 0, 0, 0, 0, 0, 0, 0, 0, 0, 0, 0,\n",
      "       0, 0, 0, 0, 0, 0, 0, 0, 0, 0, 0, 0, 0, 0, 0, 0, 0, 0, 0, 0, 0, 0,\n",
      "       0, 0, 0, 0, 0, 0, 0, 0, 0, 0, 0, 0, 0, 0, 0, 0, 0, 0, 0, 0, 0, 0,\n",
      "       0, 0, 0, 0, 0, 0, 0, 0, 0, 0, 0, 0, 0, 0, 0, 0, 0, 0, 0, 0, 0, 0,\n",
      "       0, 0, 0, 0, 0, 0, 0, 0, 0, 0, 0, 0, 0, 0, 0, 0, 0, 0, 0, 0, 0, 0,\n",
      "       0, 0, 0, 0, 0, 0, 0, 0, 0, 0, 0, 0, 0, 0, 0, 0, 0, 0, 0, 0, 0, 0,\n",
      "       0, 0, 0, 0], dtype=int64), array([0, 0, 0, 0, 0, 0, 0, 0, 0, 0, 0, 0, 0, 0, 0, 0, 0, 0, 0, 1, 0, 0,\n",
      "       0, 0, 0, 0, 0, 0, 0, 0, 0, 0, 0, 0, 0, 0, 0, 0, 0, 0, 0, 0, 0, 0,\n",
      "       0, 0, 0, 0, 0, 0, 0, 0, 0, 0, 0, 0, 0, 0, 0, 0, 0, 0, 0, 0, 0, 0,\n",
      "       0, 0, 0, 0, 0, 0, 0, 0, 0, 0, 0, 0, 0, 0, 0, 0, 0, 0, 0, 0, 0, 0,\n",
      "       0, 0, 0, 0, 0, 0, 0, 0, 0, 0, 0, 1, 0, 0, 0, 0, 0, 0, 0, 0, 0, 0,\n",
      "       0, 0, 0, 0, 0, 0, 0, 0, 0, 0, 0, 0, 0, 0, 0, 0, 0, 0, 0, 0, 0, 0,\n",
      "       0, 0, 0, 0, 0, 0, 0, 0, 0, 0, 0, 0, 0, 0, 0, 0, 0, 0, 0, 0, 0, 0,\n",
      "       0, 0, 0, 0, 0, 0, 0, 0, 0, 0, 0, 0, 0, 0, 0, 0, 0, 0, 0, 0, 0, 0,\n",
      "       0, 0, 0, 0, 0, 0, 0, 0, 0, 0, 0, 0, 0, 0, 0, 0, 0, 0, 0, 0, 0, 0,\n",
      "       0, 0, 0, 0, 0, 0, 0, 0, 0, 0, 0, 0, 0, 0, 0, 0, 0, 0, 0, 0, 0, 0,\n",
      "       0, 0, 0, 0, 0, 0, 0, 0, 0, 0, 0, 0, 0, 0, 0, 0, 0, 0, 0, 0, 0, 0,\n",
      "       0, 0, 0, 0, 0, 0, 0, 0, 0, 0, 0, 0, 0, 0, 0, 0, 0, 0, 0, 0, 0, 0,\n",
      "       0, 0, 0, 0, 0, 0, 0, 0, 0, 0, 0, 0, 0, 0, 0, 0, 0, 0, 0, 0, 0, 0,\n",
      "       0, 0, 0, 0, 0, 0, 0, 0, 0, 0, 0, 0, 0, 0, 0, 0, 0, 0, 0, 0, 0, 0,\n",
      "       0, 0, 0, 0], dtype=int64), array([0, 0, 0, 0, 0, 0, 0, 0, 0, 0, 0, 0, 0, 0, 0, 0, 0, 0, 0, 0, 0, 0,\n",
      "       0, 0, 0, 0, 0, 0, 0, 0, 0, 0, 0, 0, 0, 0, 0, 0, 0, 0, 0, 0, 0, 0,\n",
      "       0, 0, 0, 0, 0, 0, 0, 0, 0, 0, 0, 0, 0, 0, 0, 0, 0, 0, 0, 0, 0, 0,\n",
      "       0, 0, 0, 0, 0, 0, 0, 0, 0, 0, 0, 0, 0, 0, 0, 0, 0, 0, 0, 0, 0, 0,\n",
      "       0, 0, 0, 0, 0, 0, 0, 0, 0, 0, 0, 0, 0, 0, 0, 0, 0, 0, 0, 0, 0, 0,\n",
      "       0, 0, 0, 0, 0, 0, 0, 0, 0, 0, 0, 0, 0, 0, 0, 0, 0, 0, 0, 0, 0, 0,\n",
      "       0, 0, 0, 0, 0, 0, 0, 0, 0, 0, 0, 0, 0, 0, 0, 0, 0, 0, 0, 0, 0, 0,\n",
      "       0, 0, 0, 0, 0, 0, 0, 0, 0, 0, 0, 0, 0, 0, 0, 0, 0, 0, 0, 0, 0, 0,\n",
      "       0, 0, 0, 0, 0, 0, 0, 0, 0, 0, 0, 0, 0, 0, 0, 0, 0, 0, 0, 0, 0, 0,\n",
      "       0, 0, 0, 0, 0, 0, 0, 0, 0, 0, 0, 0, 0, 0, 0, 0, 0, 0, 0, 0, 0, 0,\n",
      "       0, 0, 0, 0, 0, 0, 0, 0, 0, 0, 0, 0, 0, 0, 0, 0, 0, 0, 0, 0, 0, 0,\n",
      "       0, 0, 0, 0, 0, 0, 0, 0, 0, 0, 0, 0, 0, 0, 0, 0, 0, 0, 0, 0, 0, 0,\n",
      "       0, 0, 0, 0, 0, 0, 0, 0, 0, 0, 0, 0, 0, 0, 0, 0, 0, 0, 0, 0, 0, 0,\n",
      "       0, 0, 0, 0, 0, 0, 0, 0, 0, 0, 0, 0, 0, 0, 0, 0, 0, 0, 0, 0, 0, 0,\n",
      "       0, 0, 0, 0], dtype=int64), array([0, 0, 0, 0, 0, 0, 0, 0, 0, 0, 0, 0, 0, 0, 0, 0, 0, 0, 0, 0, 0, 0,\n",
      "       0, 0, 0, 0, 0, 0, 0, 0, 0, 0, 0, 1, 0, 0, 0, 0, 0, 0, 0, 0, 0, 0,\n",
      "       0, 0, 0, 0, 0, 0, 0, 0, 0, 0, 0, 0, 0, 0, 0, 0, 0, 0, 0, 0, 0, 0,\n",
      "       0, 0, 0, 0, 0, 0, 0, 0, 0, 0, 0, 0, 0, 0, 0, 0, 0, 0, 0, 0, 0, 0,\n",
      "       0, 0, 0, 0, 0, 0, 0, 0, 0, 0, 0, 0, 0, 0, 0, 0, 0, 0, 0, 0, 0, 0,\n",
      "       0, 0, 0, 0, 0, 0, 0, 0, 0, 0, 0, 0, 0, 0, 0, 1, 0, 0, 0, 0, 0, 0,\n",
      "       0, 0, 0, 0, 0, 0, 0, 0, 0, 0, 0, 0, 0, 0, 0, 0, 0, 0, 0, 0, 0, 0,\n",
      "       0, 0, 0, 0, 0, 0, 0, 0, 0, 0, 0, 0, 0, 0, 0, 0, 0, 0, 0, 0, 0, 0,\n",
      "       0, 0, 0, 0, 0, 0, 0, 0, 0, 0, 0, 0, 0, 0, 0, 0, 0, 0, 0, 0, 0, 0,\n",
      "       0, 0, 0, 0, 0, 0, 0, 0, 0, 0, 0, 0, 0, 0, 0, 0, 0, 0, 0, 0, 0, 0,\n",
      "       0, 0, 0, 0, 0, 0, 0, 0, 0, 0, 0, 0, 0, 0, 0, 0, 0, 0, 0, 0, 0, 0,\n",
      "       0, 0, 0, 0, 0, 0, 0, 0, 0, 0, 0, 0, 0, 0, 0, 0, 0, 0, 0, 0, 0, 0,\n",
      "       0, 0, 0, 0, 0, 0, 0, 0, 0, 0, 0, 0, 0, 0, 0, 0, 0, 0, 0, 0, 0, 0,\n",
      "       0, 0, 0, 0, 0, 0, 0, 0, 0, 0, 0, 0, 0, 0, 0, 0, 0, 0, 0, 0, 0, 0,\n",
      "       0, 1, 0, 0], dtype=int64), array([1, 1, 1, 0, 1, 1, 0, 0, 0, 0, 0, 1, 0, 0, 0, 1, 0, 0, 0, 0, 0, 0,\n",
      "       0, 0, 0, 0, 0, 1, 0, 0, 0, 0, 0, 0, 0, 0, 0, 0, 0, 0, 0, 0, 0, 0,\n",
      "       0, 1, 1, 1, 0, 0, 1, 0, 0, 0, 0, 0, 0, 0, 0, 0, 0, 0, 0, 0, 1, 0,\n",
      "       0, 0, 1, 0, 0, 0, 0, 0, 0, 0, 0, 0, 0, 0, 1, 0, 0, 0, 0, 0, 0, 0,\n",
      "       0, 0, 0, 0, 1, 0, 0, 0, 1, 1, 0, 0, 0, 0, 0, 0, 0, 0, 0, 0, 0, 0,\n",
      "       0, 0, 0, 0, 0, 0, 0, 0, 1, 0, 0, 0, 0, 0, 0, 0, 0, 0, 1, 0, 1, 0,\n",
      "       0, 0, 0, 0, 0, 0, 0, 0, 0, 0, 1, 0, 0, 0, 1, 0, 0, 0, 0, 1, 0, 0,\n",
      "       1, 0, 0, 1, 0, 0, 1, 0, 0, 0, 0, 0, 1, 0, 0, 0, 0, 0, 1, 0, 0, 0,\n",
      "       0, 0, 0, 0, 0, 0, 0, 0, 0, 0, 0, 1, 0, 0, 1, 0, 0, 0, 0, 0, 0, 0,\n",
      "       0, 0, 0, 0, 0, 0, 0, 0, 0, 1, 0, 0, 0, 0, 0, 0, 0, 0, 0, 0, 0, 0,\n",
      "       1, 0, 0, 0, 1, 0, 1, 0, 0, 0, 0, 0, 0, 0, 0, 0, 0, 1, 0, 0, 0, 0,\n",
      "       0, 0, 1, 0, 0, 1, 0, 1, 0, 0, 0, 0, 0, 1, 0, 0, 0, 0, 0, 0, 0, 0,\n",
      "       0, 1, 1, 0, 0, 0, 0, 0, 0, 0, 0, 0, 0, 0, 0, 0, 1, 0, 0, 0, 0, 0,\n",
      "       0, 0, 0, 1, 0, 0, 0, 0, 0, 0, 0, 0, 0, 0, 0, 0, 0, 0, 0, 0, 0, 0,\n",
      "       0, 0, 0, 0], dtype=int64)]\n"
     ]
    }
   ],
   "source": [
    "print(aps)"
   ]
  },
  {
   "cell_type": "code",
   "execution_count": 47,
   "id": "098fcc67",
   "metadata": {},
   "outputs": [],
   "source": [
    "f = []\n",
    "for i in range(809,1121):\n",
    "    s=\"S\"\n",
    "    for j in range(4-len(str(i))):\n",
    "        s=s+\"0\"\n",
    "    f.append(s + str(i))\n",
    "f = [ f ]\n",
    "op = f + aps"
   ]
  },
  {
   "cell_type": "code",
   "execution_count": 48,
   "id": "7cf1e8be",
   "metadata": {},
   "outputs": [],
   "source": [
    "ans = np.array(op)\n",
    "ans = ans.transpose()"
   ]
  },
  {
   "cell_type": "code",
   "execution_count": 49,
   "id": "915b03b3",
   "metadata": {},
   "outputs": [],
   "source": [
    "fields = []\n",
    "for column in dataForTest2:\n",
    "    fields.append(column)"
   ]
  },
  {
   "cell_type": "code",
   "execution_count": 50,
   "id": "79de6e9e",
   "metadata": {},
   "outputs": [],
   "source": [
    "import csv\n",
    "with open('predict3.csv', 'w', newline='') as file:\n",
    "    writer = csv.writer(file)\n",
    "    writer.writerow(fields)\n",
    "    writer.writerows(ans)"
   ]
  }
 ],
 "metadata": {
  "kernelspec": {
   "display_name": "Python 3 (ipykernel)",
   "language": "python",
   "name": "python3"
  },
  "language_info": {
   "codemirror_mode": {
    "name": "ipython",
    "version": 3
   },
   "file_extension": ".py",
   "mimetype": "text/x-python",
   "name": "python",
   "nbconvert_exporter": "python",
   "pygments_lexer": "ipython3",
   "version": "3.11.3"
  }
 },
 "nbformat": 4,
 "nbformat_minor": 5
}
