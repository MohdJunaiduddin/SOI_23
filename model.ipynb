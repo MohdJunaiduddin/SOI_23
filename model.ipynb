{
 "cells": [
  {
   "cell_type": "code",
   "execution_count": 1,
   "id": "b2060366",
   "metadata": {},
   "outputs": [],
   "source": [
    "import pandas as pd\n",
    "import numpy as np\n",
    "import matplotlib.pyplot as plt\n",
    "import math\n",
    "import random\n",
    "from sklearn.linear_model import LinearRegression\n",
    "from sklearn.preprocessing import PolynomialFeatures\n",
    "from sklearn.model_selection import train_test_split\n",
    "from sklearn.metrics import classification_report, confusion_matrix\n",
    "from sklearn.metrics import accuracy_score\n",
    "from sklearn.metrics import log_loss\n",
    "from sklearn.metrics import r2_score"
   ]
  },
  {
   "cell_type": "code",
   "execution_count": 2,
   "id": "def48b97",
   "metadata": {},
   "outputs": [],
   "source": [
    "def red(x,y):\n",
    "    m=sum(x)/len(x)\n",
    "    st=np.std(x)\n",
    "    for i in range(len(x)):\n",
    "        x[i]=(x[i]-m)/st\n",
    "    m=sum(y)/len(x)\n",
    "    st=np.std(y)\n",
    "    for i in range(len(y)):\n",
    "        y[i]=(y[i]-m)/st"
   ]
  },
  {
   "cell_type": "code",
   "execution_count": 3,
   "id": "13e1e9c8",
   "metadata": {},
   "outputs": [],
   "source": [
    "def sh(x,y,q):\n",
    "    jack=[]\n",
    "    for i in range(len(x)):\n",
    "        jack.append([[x[i]],y[i]])\n",
    "    random.seed(q)\n",
    "    random.shuffle(jack)\n",
    "    x=[]\n",
    "    y=[]\n",
    "    for i in range(len(jack)):\n",
    "        x.append(jack[i][0])\n",
    "        y.append(jack[i][1])\n",
    "    return x,y"
   ]
  },
  {
   "cell_type": "code",
   "execution_count": 4,
   "id": "21b8b372",
   "metadata": {},
   "outputs": [],
   "source": [
    "def fun(x,y,g):\n",
    "    traningSet=x[:]\n",
    "    traningSety=y[:]\n",
    "    X=LinearRegression()\n",
    "    superModel=PolynomialFeatures(g)\n",
    "    polx=superModel.fit_transform(traningSet)\n",
    "    X.fit(polx,traningSety)\n",
    "    pp=X.predict(polx)\n",
    "#     print(r2_score(traningSety,pp))\n",
    "    return(X.coef_+X.intercept_)\n",
    "def qh(x,y,q):\n",
    "    jack=[]\n",
    "    for i in range(len(x)):\n",
    "        jack.append([x[i],y[i]])\n",
    "    random.seed(q)\n",
    "    random.shuffle(jack)\n",
    "    x=[]\n",
    "    y=[]\n",
    "    for i in range(len(jack)):\n",
    "        x.append(jack[i][0])\n",
    "        y.append(jack[i][1])\n",
    "    return x,y\n",
    "def sd(ordinates):\n",
    "    times=[]\n",
    "    nades=[]\n",
    "    for i in range(len(ordinates)):\n",
    "        times.append(ordinates[i][-1])\n",
    "        nades.append(ordinates[i][:-1])\n",
    "    return nades, times"
   ]
  },
  {
   "cell_type": "code",
   "execution_count": 5,
   "id": "d93bfee9",
   "metadata": {
    "scrolled": false
   },
   "outputs": [],
   "source": [
    "m=[]\n",
    "\n",
    "for i in range(809):\n",
    "    s=\"s\"\n",
    "    for j in range(4-len(str(i))):\n",
    "        s=s+\"0\"\n",
    "    file=s+str(i)+\".csv\"\n",
    "    ordinates=[]\n",
    "    dataForTest1=pd.read_csv(file)\n",
    "    s=set()\n",
    "    for x in dataForTest1['time']:\n",
    "        s.add(x)\n",
    "    s=list(s)\n",
    "    d={}\n",
    "    num=0\n",
    "    for it in s[:]:\n",
    "        data=dataForTest1[dataForTest1['time']==it]\n",
    "        x=[]\n",
    "        y=[]\n",
    "        for i in data['intensity']:\n",
    "            y.append(math.log(i+0.001))\n",
    "        for i in data['mass']:\n",
    "            x.append(i)\n",
    "        red(x,y)\n",
    "        alpha,beta=sh(x,y,2559)\n",
    "        ordinates.append(list(fun(alpha,beta,6)))\n",
    "        ordinates[num].append(it)\n",
    "        num+=1\n",
    "    nades, times = sd(ordinates)\n",
    "    delta,gama=qh(nades,times,2559)\n",
    "    m.append(fun(delta,gama,1))\n",
    "# print(m)"
   ]
  },
  {
   "cell_type": "code",
   "execution_count": 6,
   "id": "436c5a41",
   "metadata": {},
   "outputs": [],
   "source": [
    "mtest = []\n",
    "for i in range(809,1121):\n",
    "    s=\"s\"\n",
    "    for j in range(4-len(str(i))):\n",
    "        s=s+\"0\"\n",
    "    file=s+str(i)+\".csv\"\n",
    "    ordinates=[]\n",
    "    dataForTest1=pd.read_csv(file)\n",
    "    s=set()\n",
    "    for x in dataForTest1['time']:\n",
    "        s.add(x)\n",
    "    s=list(s)\n",
    "    d={}\n",
    "    num=0\n",
    "    for it in s[:]:\n",
    "        data=dataForTest1[dataForTest1['time']==it]\n",
    "        x=[]\n",
    "        y=[]\n",
    "        for i in data['intensity']:\n",
    "            y.append(math.log(i+0.001))\n",
    "        for i in data['mass']:\n",
    "            x.append(i)\n",
    "        red(x,y)\n",
    "        alpha,beta=sh(x,y,2559)\n",
    "        ordinates.append(list(fun(alpha,beta,6)))\n",
    "        ordinates[num].append(it)\n",
    "        num+=1\n",
    "    nades, times = sd(ordinates)\n",
    "    delta,gama=qh(nades,times,2559)\n",
    "    mtest.append(fun(delta,gama,1))"
   ]
  },
  {
   "cell_type": "code",
   "execution_count": 7,
   "id": "43695b97",
   "metadata": {},
   "outputs": [],
   "source": [
    "from sklearn.svm import SVC"
   ]
  },
  {
   "cell_type": "code",
   "execution_count": 8,
   "id": "1a9ac66d",
   "metadata": {},
   "outputs": [],
   "source": [
    "dataForTest2=pd.read_csv('train_labels.csv')"
   ]
  },
  {
   "cell_type": "code",
   "execution_count": 10,
   "id": "c138d3b9",
   "metadata": {},
   "outputs": [],
   "source": [
    "aps = []\n",
    "X = m\n",
    "for column in dataForTest2:\n",
    "    if column != \"sample_id\":\n",
    "        Y = dataForTest2[column]\n",
    "        x_train, x_test, y_train, y_test= train_test_split(X, Y, test_size= 0.33, random_state=100)  \n",
    "        svm = SVC(kernel ='poly', degree = 5, random_state=0)  \n",
    "        svm.fit(x_train, y_train)\n",
    "        y_pred= svm.predict(mtest)\n",
    "        aps.append(y_pred)"
   ]
  },
  {
   "cell_type": "code",
   "execution_count": 11,
   "id": "0285a72b",
   "metadata": {},
   "outputs": [
    {
     "name": "stdout",
     "output_type": "stream",
     "text": [
      "9 312\n",
      "0\n",
      "0\n",
      "9\n",
      "5\n",
      "0\n",
      "0\n",
      "2\n",
      "1\n",
      "1\n"
     ]
    }
   ],
   "source": [
    "print(len(aps),len(aps[0]))\n",
    "for x in range(len(aps)):\n",
    "    print(sum(aps[x]) )"
   ]
  },
  {
   "cell_type": "code",
   "execution_count": 12,
   "id": "f6347cf6",
   "metadata": {},
   "outputs": [],
   "source": [
    "f = []\n",
    "for i in range(809,1121):\n",
    "    s=\"S\"\n",
    "    for j in range(4-len(str(i))):\n",
    "        s=s+\"0\"\n",
    "    f.append(s + str(i))\n",
    "f = [ f ]"
   ]
  },
  {
   "cell_type": "code",
   "execution_count": 13,
   "id": "e2a28052",
   "metadata": {},
   "outputs": [
    {
     "name": "stdout",
     "output_type": "stream",
     "text": [
      "312\n",
      "312\n"
     ]
    }
   ],
   "source": [
    "op = f + aps\n",
    "print(len(op[0]))\n",
    "print(len(op[1]))"
   ]
  },
  {
   "cell_type": "code",
   "execution_count": 14,
   "id": "bdf29e60",
   "metadata": {},
   "outputs": [],
   "source": [
    "ans = np.array(op)\n",
    "ans = ans.transpose()"
   ]
  },
  {
   "cell_type": "code",
   "execution_count": 16,
   "id": "f055e752",
   "metadata": {},
   "outputs": [
    {
     "name": "stdout",
     "output_type": "stream",
     "text": [
      "<class 'numpy.ndarray'>\n"
     ]
    }
   ],
   "source": [
    "fields = []\n",
    "for column in dataForTest2:\n",
    "    fields.append(column)\n",
    "# ans = list(ans)\n",
    "print(type(ans[0]))"
   ]
  },
  {
   "cell_type": "code",
   "execution_count": 17,
   "id": "6d92d53a",
   "metadata": {},
   "outputs": [],
   "source": [
    "import csv\n",
    "with open('predict1.csv', 'w', newline='') as file:\n",
    "    writer = csv.writer(file)\n",
    "    writer.writerow(fields)\n",
    "    writer.writerows(ans)"
   ]
  }
 ],
 "metadata": {
  "kernelspec": {
   "display_name": "Python 3 (ipykernel)",
   "language": "python",
   "name": "python3"
  },
  "language_info": {
   "codemirror_mode": {
    "name": "ipython",
    "version": 3
   },
   "file_extension": ".py",
   "mimetype": "text/x-python",
   "name": "python",
   "nbconvert_exporter": "python",
   "pygments_lexer": "ipython3",
   "version": "3.11.3"
  }
 },
 "nbformat": 4,
 "nbformat_minor": 5
}
