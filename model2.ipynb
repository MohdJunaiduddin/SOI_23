{
 "cells": [
  {
   "cell_type": "code",
   "execution_count": 1,
   "id": "b2060366",
   "metadata": {},
   "outputs": [],
   "source": [
    "import pandas as pd\n",
    "import numpy as np\n",
    "import matplotlib.pyplot as plt\n",
    "import math\n",
    "import random\n",
    "from sklearn.linear_model import LinearRegression\n",
    "from sklearn.preprocessing import PolynomialFeatures\n",
    "from sklearn.model_selection import train_test_split\n",
    "from sklearn.metrics import classification_report, confusion_matrix\n",
    "from sklearn.metrics import accuracy_score\n",
    "from sklearn.metrics import log_loss\n",
    "from sklearn.metrics import r2_score"
   ]
  },
  {
   "cell_type": "code",
   "execution_count": 2,
   "id": "def48b97",
   "metadata": {},
   "outputs": [],
   "source": [
    "def red(x,y):\n",
    "    m=sum(x)/len(x)\n",
    "    st=np.std(x)\n",
    "    for i in range(len(x)):\n",
    "        x[i]=(x[i]-m)/st\n",
    "    m=sum(y)/len(x)\n",
    "    st=np.std(y)\n",
    "    for i in range(len(y)):\n",
    "        y[i]=(y[i]-m)/st"
   ]
  },
  {
   "cell_type": "code",
   "execution_count": 3,
   "id": "13e1e9c8",
   "metadata": {},
   "outputs": [],
   "source": [
    "def sh(x,y,q):\n",
    "    jack=[]\n",
    "    for i in range(len(x)):\n",
    "        jack.append([[x[i]],y[i]])\n",
    "    random.seed(q)\n",
    "    random.shuffle(jack)\n",
    "    x=[]\n",
    "    y=[]\n",
    "    for i in range(len(jack)):\n",
    "        x.append(jack[i][0])\n",
    "        y.append(jack[i][1])\n",
    "    return x,y"
   ]
  },
  {
   "cell_type": "code",
   "execution_count": 4,
   "id": "21b8b372",
   "metadata": {},
   "outputs": [],
   "source": [
    "def fun(x,y,g):\n",
    "    traningSet=x[:]\n",
    "    traningSety=y[:]\n",
    "    X=LinearRegression()\n",
    "    superModel=PolynomialFeatures(g)\n",
    "    polx=superModel.fit_transform(traningSet)\n",
    "    X.fit(polx,traningSety)\n",
    "#     pp=X.predict(polx)\n",
    "#     print(r2_score(traningSety,pp))\n",
    "    return(X.coef_+X.intercept_)\n",
    "def qh(x,y,q):\n",
    "    jack=[]\n",
    "    for i in range(len(x)):\n",
    "        jack.append([x[i],y[i]])\n",
    "    random.seed(q)\n",
    "    random.shuffle(jack)\n",
    "    x=[]\n",
    "    y=[]\n",
    "    for i in range(len(jack)):\n",
    "        x.append(jack[i][0])\n",
    "        y.append(jack[i][1])\n",
    "    return x,y\n",
    "def sd(ordinates):\n",
    "    times=[]\n",
    "    nades=[]\n",
    "    for i in range(len(ordinates)):\n",
    "        times.append(ordinates[i][-1])\n",
    "        nades.append(ordinates[i][:-1])\n",
    "    return nades, times\n",
    "def idea2(ordinates):\n",
    "    nums = [0]*(len(ordinates[0]) - 1)\n",
    "    for i in range(len(ordinates)):\n",
    "        for j in range(len(nums)):\n",
    "            nums[j] += ordinates[i][j]\n",
    "    for j in range(len(nums)):\n",
    "        nums[j] = nums[j]/len(ordinates)\n",
    "    return nums"
   ]
  },
  {
   "cell_type": "code",
   "execution_count": 5,
   "id": "d93bfee9",
   "metadata": {
    "scrolled": false
   },
   "outputs": [],
   "source": [
    "m=[]\n",
    "ms = []\n",
    "for i in range(809):\n",
    "    s=\"s\"\n",
    "    for j in range(4-len(str(i))):\n",
    "        s=s+\"0\"\n",
    "    file=s+str(i)+\".csv\"\n",
    "    ordinates=[]\n",
    "    dataForTest1=pd.read_csv(file)\n",
    "    s=set()\n",
    "    for x in dataForTest1['time']:\n",
    "        s.add(x)\n",
    "    s=list(s)\n",
    "    d={}\n",
    "    num=0\n",
    "    for it in s[:]:\n",
    "        data=dataForTest1[dataForTest1['time']==it]\n",
    "        x=[]\n",
    "        y=[]\n",
    "        for i in data['intensity']:\n",
    "            y.append(math.log(i+0.001))\n",
    "        for i in data['mass']:\n",
    "            x.append(i)\n",
    "        red(x,y)\n",
    "        alpha,beta=sh(x,y,2559)\n",
    "        ordinates.append(list(fun(alpha,beta,6)))\n",
    "        ordinates[num].append(it)\n",
    "        num+=1\n",
    "    ms.append(idea2(ordinates))\n",
    "#     nades, times = sd(ordinates)\n",
    "#     delta,gama=qh(nades,times,2559)\n",
    "#     m.append(fun(delta,gama,1))\n",
    "# print(m)"
   ]
  },
  {
   "cell_type": "code",
   "execution_count": 6,
   "id": "62e6bfc8",
   "metadata": {},
   "outputs": [
    {
     "name": "stdout",
     "output_type": "stream",
     "text": [
      "[-0.3365163869953299, -0.6012484846165201, -0.46056606476673045, -1.035558275407216, 0.3305372042878482, -0.1247035231328447, -0.5305006893074219]\n"
     ]
    }
   ],
   "source": [
    "print(ms[0])"
   ]
  },
  {
   "cell_type": "code",
   "execution_count": 7,
   "id": "6dd24522",
   "metadata": {},
   "outputs": [],
   "source": [
    "mtest = []\n",
    "mstest = []\n",
    "for i in range(809,1121):\n",
    "    s=\"s\"\n",
    "    for j in range(4-len(str(i))):\n",
    "        s=s+\"0\"\n",
    "    file=s+str(i)+\".csv\"\n",
    "    ordinates=[]\n",
    "    dataForTest1=pd.read_csv(file)\n",
    "    s=set()\n",
    "    for x in dataForTest1['time']:\n",
    "        s.add(x)\n",
    "    s=list(s)\n",
    "    d={}\n",
    "    num=0\n",
    "    for it in s[:]:\n",
    "        data=dataForTest1[dataForTest1['time']==it]\n",
    "        x=[]\n",
    "        y=[]\n",
    "        for i in data['intensity']:\n",
    "            y.append(math.log(i+0.001))\n",
    "        for i in data['mass']:\n",
    "            x.append(i)\n",
    "        red(x,y)\n",
    "        alpha,beta=sh(x,y,2559)\n",
    "        ordinates.append(list(fun(alpha,beta,6)))\n",
    "        ordinates[num].append(it)\n",
    "        num+=1\n",
    "    mstest.append(idea2(ordinates))\n",
    "#     nades, times = sd(ordinates)\n",
    "#     delta,gama=qh(nades,times,2559)\n",
    "#     mtest.append(fun(delta,gama,1))"
   ]
  },
  {
   "cell_type": "code",
   "execution_count": 8,
   "id": "6ad96a55",
   "metadata": {},
   "outputs": [],
   "source": [
    "from sklearn.svm import SVC"
   ]
  },
  {
   "cell_type": "code",
   "execution_count": 9,
   "id": "af74894a",
   "metadata": {},
   "outputs": [],
   "source": [
    "dataForTest2=pd.read_csv('train_labels.csv')"
   ]
  },
  {
   "cell_type": "code",
   "execution_count": 14,
   "id": "6f78617c",
   "metadata": {},
   "outputs": [
    {
     "name": "stdout",
     "output_type": "stream",
     "text": [
      "809\n"
     ]
    }
   ],
   "source": [
    "# X = ms\n",
    "# Y = dataForTest2[\"aromatic\"]\n",
    "# print(len(Y))"
   ]
  },
  {
   "cell_type": "code",
   "execution_count": 274,
   "id": "59555d90",
   "metadata": {},
   "outputs": [],
   "source": [
    "# x_train, x_test, y_train, y_test= train_test_split(X, Y, test_size= 0.1, random_state=100)  "
   ]
  },
  {
   "cell_type": "code",
   "execution_count": null,
   "id": "966a6452",
   "metadata": {},
   "outputs": [],
   "source": [
    "# svm = SVC(kernel ='poly', degree = 100)  \n",
    "# svm.fit(x_train, y_train) \n",
    "# # , random_state=0"
   ]
  },
  {
   "cell_type": "code",
   "execution_count": null,
   "id": "02d612c2",
   "metadata": {},
   "outputs": [],
   "source": [
    "# y_pred= svm.predict(x_train)  "
   ]
  },
  {
   "cell_type": "code",
   "execution_count": null,
   "id": "7f155324",
   "metadata": {},
   "outputs": [],
   "source": [
    "# print(log_loss(y_train, y_pred))\n",
    "# print(r2_score(y_train, y_pred))"
   ]
  },
  {
   "cell_type": "code",
   "execution_count": null,
   "id": "d3eae350",
   "metadata": {},
   "outputs": [],
   "source": [
    "# confusion_matrix(y_train, y_pred)  "
   ]
  },
  {
   "cell_type": "code",
   "execution_count": null,
   "id": "f4d0a659",
   "metadata": {},
   "outputs": [],
   "source": [
    "# y_pred= svm.predict(x_test) "
   ]
  },
  {
   "cell_type": "code",
   "execution_count": null,
   "id": "d348f28b",
   "metadata": {},
   "outputs": [],
   "source": [
    "# print(log_loss(y_test, y_pred))\n",
    "# print(r2_score(y_test, y_pred))"
   ]
  },
  {
   "cell_type": "code",
   "execution_count": 20,
   "id": "dd38575a",
   "metadata": {},
   "outputs": [],
   "source": [
    "# confusion_matrix(y_test, y_pred)  "
   ]
  },
  {
   "cell_type": "code",
   "execution_count": 11,
   "id": "3f478810",
   "metadata": {},
   "outputs": [],
   "source": [
    "aps = []\n",
    "X = ms\n",
    "for column in dataForTest2:\n",
    "    if column != \"sample_id\":\n",
    "        Y = dataForTest2[column]\n",
    "        x_train, x_test, y_train, y_test= train_test_split(X, Y, test_size= 0.2, random_state=100)  \n",
    "        svm = SVC(kernel ='poly', degree = 10, random_state=0)  \n",
    "        svm.fit(x_train, y_train)\n",
    "        y_pred= svm.predict(mstest)\n",
    "        aps.append(y_pred)"
   ]
  },
  {
   "cell_type": "code",
   "execution_count": 12,
   "id": "349876be",
   "metadata": {},
   "outputs": [
    {
     "name": "stdout",
     "output_type": "stream",
     "text": [
      "9 312\n",
      "5\n",
      "108\n",
      "20\n",
      "16\n",
      "9\n",
      "8\n",
      "8\n",
      "5\n",
      "38\n"
     ]
    }
   ],
   "source": [
    "print(len(aps),len(aps[0]))\n",
    "for x in range(len(aps)):\n",
    "    print(sum(aps[x]) )"
   ]
  },
  {
   "cell_type": "code",
   "execution_count": 13,
   "id": "87e8e38f",
   "metadata": {},
   "outputs": [],
   "source": [
    "f = []\n",
    "for i in range(809,1121):\n",
    "    s=\"S\"\n",
    "    for j in range(4-len(str(i))):\n",
    "        s=s+\"0\"\n",
    "    f.append(s + str(i))\n",
    "f = [ f ]"
   ]
  },
  {
   "cell_type": "code",
   "execution_count": 14,
   "id": "be294bfe",
   "metadata": {},
   "outputs": [
    {
     "name": "stdout",
     "output_type": "stream",
     "text": [
      "312\n",
      "312\n"
     ]
    }
   ],
   "source": [
    "op = f + aps\n",
    "print(len(op[0]))\n",
    "print(len(op[1]))"
   ]
  },
  {
   "cell_type": "code",
   "execution_count": 15,
   "id": "43936cfe",
   "metadata": {},
   "outputs": [],
   "source": [
    "ans = np.array(op)\n",
    "ans = ans.transpose()"
   ]
  },
  {
   "cell_type": "code",
   "execution_count": 16,
   "id": "979d50e8",
   "metadata": {},
   "outputs": [
    {
     "name": "stdout",
     "output_type": "stream",
     "text": [
      "312 10\n",
      "['S0809' '0' '0' '0' '0' '0' '0' '0' '0' '0']\n"
     ]
    },
    {
     "ename": "TypeError",
     "evalue": "unsupported operand type(s) for +: 'int' and 'numpy.str_'",
     "output_type": "error",
     "traceback": [
      "\u001b[1;31m---------------------------------------------------------------------------\u001b[0m",
      "\u001b[1;31mTypeError\u001b[0m                                 Traceback (most recent call last)",
      "Cell \u001b[1;32mIn[16], line 8\u001b[0m\n\u001b[0;32m      6\u001b[0m     ans[x] \u001b[38;5;241m=\u001b[39m \u001b[38;5;28mlist\u001b[39m(ans[x])\n\u001b[0;32m      7\u001b[0m     \u001b[38;5;28;01mif\u001b[39;00m x \u001b[38;5;241m!=\u001b[39m \u001b[38;5;241m0\u001b[39m:\n\u001b[1;32m----> 8\u001b[0m         s \u001b[38;5;241m+\u001b[39m\u001b[38;5;241m=\u001b[39m \u001b[38;5;28;43msum\u001b[39;49m\u001b[43m(\u001b[49m\u001b[43mans\u001b[49m\u001b[43m[\u001b[49m\u001b[43mx\u001b[49m\u001b[43m]\u001b[49m\u001b[43m)\u001b[49m \n\u001b[0;32m      9\u001b[0m \u001b[38;5;28mprint\u001b[39m(\u001b[38;5;28mtype\u001b[39m(ans[\u001b[38;5;241m0\u001b[39m]),s)\n",
      "\u001b[1;31mTypeError\u001b[0m: unsupported operand type(s) for +: 'int' and 'numpy.str_'"
     ]
    }
   ],
   "source": [
    "print(len(ans),len(ans[0]))\n",
    "print(ans[0])\n",
    "s = 0\n",
    "for x in range(len(ans)):\n",
    "    \n",
    "    ans[x] = list(ans[x])\n",
    "    if x != 0:\n",
    "        s += sum(ans[x]) \n",
    "print(type(ans[0]),s)"
   ]
  },
  {
   "cell_type": "code",
   "execution_count": 17,
   "id": "a4ddff0a",
   "metadata": {},
   "outputs": [
    {
     "name": "stdout",
     "output_type": "stream",
     "text": [
      "<class 'numpy.ndarray'>\n"
     ]
    }
   ],
   "source": [
    "fields = []\n",
    "for column in dataForTest2:\n",
    "    fields.append(column)\n",
    "# ans = list(ans)\n",
    "print(type(ans[0]))"
   ]
  },
  {
   "cell_type": "code",
   "execution_count": 19,
   "id": "16f4ecf0",
   "metadata": {},
   "outputs": [],
   "source": [
    "import csv\n",
    "with open('avgmod.csv', 'w', newline='') as file:\n",
    "    writer = csv.writer(file)\n",
    "    writer.writerows(ans)"
   ]
  },
  {
   "cell_type": "code",
   "execution_count": 100,
   "id": "4f042d73",
   "metadata": {},
   "outputs": [
    {
     "name": "stdout",
     "output_type": "stream",
     "text": [
      "sample_id\n",
      "aromatic\n",
      "hydrocarbon\n",
      "carboxylic_acid\n",
      "nitrogen_bearing_compound\n",
      "chlorine_bearing_compound\n",
      "sulfur_bearing_compound\n",
      "alcohol\n",
      "other_oxygen_bearing_compound\n",
      "mineral\n"
     ]
    }
   ],
   "source": [
    "for column in dataForTest2:\n",
    "    print(column)"
   ]
  }
 ],
 "metadata": {
  "kernelspec": {
   "display_name": "Python 3 (ipykernel)",
   "language": "python",
   "name": "python3"
  },
  "language_info": {
   "codemirror_mode": {
    "name": "ipython",
    "version": 3
   },
   "file_extension": ".py",
   "mimetype": "text/x-python",
   "name": "python",
   "nbconvert_exporter": "python",
   "pygments_lexer": "ipython3",
   "version": "3.11.3"
  }
 },
 "nbformat": 4,
 "nbformat_minor": 5
}
